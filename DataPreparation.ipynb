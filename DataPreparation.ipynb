{
  "metadata": {
    "kernelspec": {
      "display_name": "Python 3",
      "name": "python3"
    },
    "language_info": {
      "name": "python",
      "version": "3.10.14",
      "mimetype": "text/x-python",
      "codemirror_mode": {
        "name": "ipython",
        "version": 3
      },
      "pygments_lexer": "ipython3",
      "nbconvert_exporter": "python",
      "file_extension": ".py"
    },
    "kaggle": {
      "accelerator": "nvidiaTeslaT4",
      "dataSources": [
        {
          "sourceId": 77759,
          "sourceType": "datasetVersion",
          "datasetId": 339
        }
      ],
      "dockerImageVersionId": 30787,
      "isInternetEnabled": true,
      "language": "python",
      "sourceType": "notebook",
      "isGpuEnabled": true
    },
    "colab": {
      "name": "notebook88cc391b18",
      "provenance": [],
      "gpuType": "T4",
      "include_colab_link": true
    },
    "accelerator": "GPU"
  },
  "nbformat_minor": 0,
  "nbformat": 4,
  "cells": [
    {
      "cell_type": "markdown",
      "metadata": {
        "id": "view-in-github",
        "colab_type": "text"
      },
      "source": [
        "<a href=\"https://colab.research.google.com/github/emanueleiacca/ADM-HW4/blob/main/DataPreparation.ipynb\" target=\"_parent\"><img src=\"https://colab.research.google.com/assets/colab-badge.svg\" alt=\"Open In Colab\"/></a>"
      ]
    },
    {
      "source": [
        "# IMPORTANT: RUN THIS CELL IN ORDER TO IMPORT YOUR KAGGLE DATA SOURCES,\n",
        "# THEN FEEL FREE TO DELETE THIS CELL.\n",
        "# NOTE: THIS NOTEBOOK ENVIRONMENT DIFFERS FROM KAGGLE'S PYTHON\n",
        "# ENVIRONMENT SO THERE MAY BE MISSING LIBRARIES USED BY YOUR\n",
        "# NOTEBOOK.\n",
        "import kagglehub\n",
        "#movielens_20m_dataset_path = kagglehub.dataset_download('grouplens/movielens-20m-dataset')\n",
        "print('Data source import complete.')\n"
      ],
      "metadata": {
        "colab": {
          "base_uri": "https://localhost:8080/"
        },
        "id": "A7UtSgiacHNM",
        "outputId": "b18d1767-ec84-4aa7-a9b6-5d82a57f0555"
      },
      "cell_type": "code",
      "outputs": [
        {
          "output_type": "stream",
          "name": "stdout",
          "text": [
            "Data source import complete.\n"
          ]
        }
      ],
      "execution_count": 40
    },
    {
      "cell_type": "code",
      "source": [
        "# This Python 3 environment comes with many helpful analytics libraries installed\n",
        "# It is defined by the kaggle/python Docker image: https://github.com/kaggle/docker-python\n",
        "# For example, here's several helpful packages to load\n",
        "\n",
        "import numpy as np # linear algebra\n",
        "import pandas as pd # data processing, CSV file I/O (e.g. pd.read_csv)\n",
        "\n",
        "# Input data files are available in the read-only \"../input/\" directory\n",
        "# For example, running this (by clicking run or pressing Shift+Enter) will list all files under the input directory\n",
        "\n",
        "import os\n",
        "for dirname, _, filenames in os.walk('/root/.cache/kagglehub/datasets/grouplens/movielens-20m-dataset/versions/1'):\n",
        "    for filename in filenames:\n",
        "        print(os.path.join(dirname, filename))\n",
        "\n",
        "# You can write up to 20GB to the current directory (/kaggle/working/) that gets preserved as output when you create a version using \"Save & Run All\"\n",
        "# You can also write temporary files to /kaggle/temp/, but they won't be saved outside of the current session"
      ],
      "metadata": {
        "_uuid": "8f2839f25d086af736a60e9eeb907d3b93b6e0e5",
        "_cell_guid": "b1076dfc-b9ad-4769-8c92-a6c4dae69d19",
        "trusted": true,
        "execution": {
          "iopub.status.busy": "2024-11-21T15:48:31.047394Z",
          "iopub.execute_input": "2024-11-21T15:48:31.047712Z",
          "iopub.status.idle": "2024-11-21T15:48:32.104745Z",
          "shell.execute_reply.started": "2024-11-21T15:48:31.047676Z",
          "shell.execute_reply": "2024-11-21T15:48:32.103715Z"
        },
        "colab": {
          "base_uri": "https://localhost:8080/"
        },
        "id": "4gzBZH_dcHNP",
        "outputId": "55594e68-0f51-4c10-bbd6-c565dce63861"
      },
      "outputs": [
        {
          "output_type": "stream",
          "name": "stdout",
          "text": [
            "/root/.cache/kagglehub/datasets/grouplens/movielens-20m-dataset/versions/1/tag.csv\n",
            "/root/.cache/kagglehub/datasets/grouplens/movielens-20m-dataset/versions/1/link.csv\n",
            "/root/.cache/kagglehub/datasets/grouplens/movielens-20m-dataset/versions/1/genome_scores.csv\n",
            "/root/.cache/kagglehub/datasets/grouplens/movielens-20m-dataset/versions/1/rating.csv\n",
            "/root/.cache/kagglehub/datasets/grouplens/movielens-20m-dataset/versions/1/genome_tags.csv\n",
            "/root/.cache/kagglehub/datasets/grouplens/movielens-20m-dataset/versions/1/movie.csv\n"
          ]
        }
      ],
      "execution_count": 41
    },
    {
      "cell_type": "code",
      "source": [
        "!nvcc --version"
      ],
      "metadata": {
        "trusted": true,
        "execution": {
          "iopub.status.busy": "2024-11-21T15:48:30.974853Z",
          "iopub.execute_input": "2024-11-21T15:48:30.975183Z",
          "iopub.status.idle": "2024-11-21T15:48:31.04437Z",
          "shell.execute_reply.started": "2024-11-21T15:48:30.975145Z",
          "shell.execute_reply": "2024-11-21T15:48:31.04248Z"
        },
        "colab": {
          "base_uri": "https://localhost:8080/"
        },
        "id": "yfyYWT2ccHNQ",
        "outputId": "56d5a106-35f0-4ed8-a847-8ad4860758d8"
      },
      "outputs": [
        {
          "output_type": "stream",
          "name": "stdout",
          "text": [
            "nvcc: NVIDIA (R) Cuda compiler driver\n",
            "Copyright (c) 2005-2023 NVIDIA Corporation\n",
            "Built on Tue_Aug_15_22:02:13_PDT_2023\n",
            "Cuda compilation tools, release 12.2, V12.2.140\n",
            "Build cuda_12.2.r12.2/compiler.33191640_0\n"
          ]
        }
      ],
      "execution_count": 42
    },
    {
      "cell_type": "markdown",
      "source": [
        "https://github.com/rapidsai/cudf?tab=readme-ov-file#pip"
      ],
      "metadata": {
        "id": "SnhfOwS_cHNR"
      }
    },
    {
      "cell_type": "code",
      "source": [
        "import rmm\n",
        "import cudf\n",
        "rmm.reinitialize(pool_allocator=True, managed_memory=True)\n",
        "print(\"RAPIDS cuDF is using GPU memory:\", rmm.is_initialized())"
      ],
      "metadata": {
        "trusted": true,
        "execution": {
          "iopub.status.busy": "2024-11-21T15:56:00.105075Z",
          "iopub.execute_input": "2024-11-21T15:56:00.105516Z",
          "iopub.status.idle": "2024-11-21T15:56:00.825162Z",
          "shell.execute_reply.started": "2024-11-21T15:56:00.10546Z",
          "shell.execute_reply": "2024-11-21T15:56:00.823729Z"
        },
        "colab": {
          "base_uri": "https://localhost:8080/"
        },
        "id": "LgQkBpLncHNU",
        "outputId": "f25f9b4b-f80e-4c31-af3c-cefb062be66d"
      },
      "outputs": [
        {
          "output_type": "stream",
          "name": "stdout",
          "text": [
            "RAPIDS cuDF is using GPU memory: True\n"
          ]
        }
      ],
      "execution_count": 43
    },
    {
      "cell_type": "code",
      "source": [
        "import cupy as cp\n",
        "\n",
        "def check_memory():\n",
        "    memory_pool = cp.get_default_memory_pool()\n",
        "    total_memory = cp.cuda.Device(0).mem_info[0]  # Total memory available\n",
        "    used_memory = memory_pool.used_bytes()       # Memory allocated by the pool\n",
        "    free_memory = total_memory - used_memory\n",
        "    print(f\"GPU Memory - Total: {total_memory / (1024**3):.2f} GB, Used: {used_memory / (1024**3):.2f} GB, Free: {free_memory / (1024**3):.2f} GB\")\n",
        "\n",
        "check_memory()"
      ],
      "metadata": {
        "colab": {
          "base_uri": "https://localhost:8080/"
        },
        "id": "kqJd1wf9fOUX",
        "outputId": "536ac536-494a-4b4e-e76a-9d808b6a47a0"
      },
      "execution_count": 44,
      "outputs": [
        {
          "output_type": "stream",
          "name": "stdout",
          "text": [
            "GPU Memory - Total: 4.76 GB, Used: 0.00 GB, Free: 4.76 GB\n"
          ]
        }
      ]
    },
    {
      "cell_type": "code",
      "source": [
        "ratings_df = cudf.read_csv(\"/root/.cache/kagglehub/datasets/grouplens/movielens-20m-dataset/versions/1/rating.csv\")\n",
        "links_df = cudf.read_csv(\"/root/.cache/kagglehub/datasets/grouplens/movielens-20m-dataset/versions/1/link.csv\")\n",
        "genome_tags_df = cudf.read_csv(\"/root/.cache/kagglehub/datasets/grouplens/movielens-20m-dataset/versions/1/genome_tags.csv\")\n",
        "genome_scores_df = cudf.read_csv(\"/root/.cache/kagglehub/datasets/grouplens/movielens-20m-dataset/versions/1/genome_scores.csv\")\n",
        "tags_df = cudf.read_csv(\"/root/.cache/kagglehub/datasets/grouplens/movielens-20m-dataset/versions/1/tag.csv\")\n",
        "movies_df = cudf.read_csv(\"/root/.cache/kagglehub/datasets/grouplens/movielens-20m-dataset/versions/1/movie.csv\")\n"
      ],
      "metadata": {
        "id": "dMPX14dVdDIo"
      },
      "execution_count": 45,
      "outputs": []
    },
    {
      "cell_type": "code",
      "source": [
        "check_memory()"
      ],
      "metadata": {
        "colab": {
          "base_uri": "https://localhost:8080/"
        },
        "id": "UYbW2owMfdVm",
        "outputId": "49f4d59a-8c72-46da-d745-522478bd042c"
      },
      "execution_count": 46,
      "outputs": [
        {
          "output_type": "stream",
          "name": "stdout",
          "text": [
            "GPU Memory - Total: 2.14 GB, Used: 0.00 GB, Free: 2.14 GB\n"
          ]
        }
      ]
    },
    {
      "cell_type": "code",
      "source": [
        "print(\"ratings_df:\",ratings_df.columns)\n",
        "print(\"links_df:\",links_df.columns)\n",
        "print(\"genome_tags_df:\",genome_tags_df.columns)\n",
        "print(\"genome_scores_df:\",genome_scores_df.columns)\n",
        "print(\"tags_df:\",tags_df.columns)\n",
        "print(\"movies_df:\",movies_df.columns)"
      ],
      "metadata": {
        "colab": {
          "base_uri": "https://localhost:8080/"
        },
        "id": "wyfdN1PedZpg",
        "outputId": "7460af5e-8cdf-4765-eea3-4a815ff0f98f"
      },
      "execution_count": 47,
      "outputs": [
        {
          "output_type": "stream",
          "name": "stdout",
          "text": [
            "ratings_df: Index(['userId', 'movieId', 'rating', 'timestamp'], dtype='object')\n",
            "links_df: Index(['movieId', 'imdbId', 'tmdbId'], dtype='object')\n",
            "genome_tags_df: Index(['tagId', 'tag'], dtype='object')\n",
            "genome_scores_df: Index(['movieId', 'tagId', 'relevance'], dtype='object')\n",
            "tags_df: Index(['userId', 'movieId', 'tag', 'timestamp'], dtype='object')\n",
            "movies_df: Index(['movieId', 'title', 'genres'], dtype='object')\n"
          ]
        }
      ]
    },
    {
      "cell_type": "code",
      "source": [
        "import gc\n",
        "rmm.reinitialize(pool_allocator=True, managed_memory=True)  # Reset GPU memory\n",
        "movies_links = movies_df.merge(links_df, on=\"movieId\", how=\"left\")\n",
        "del links_df  # Free up memory\n",
        "gc.collect()\n",
        "movies_links.head()"
      ],
      "metadata": {
        "colab": {
          "base_uri": "https://localhost:8080/",
          "height": 206
        },
        "id": "D7VWRIbidbQW",
        "outputId": "94467785-23a8-4d79-a144-9f2d36f7ec45"
      },
      "execution_count": 48,
      "outputs": [
        {
          "output_type": "execute_result",
          "data": {
            "text/plain": [
              "   movieId                                            title  \\\n",
              "0     3319                               Judy Berlin (1999)   \n",
              "1     3320  Mifune's Last Song (Mifunes sidste sang) (1999)   \n",
              "2     3321                         Waiting Game, The (2000)   \n",
              "3     3322                                 3 Strikes (2000)   \n",
              "4     3323                            Chain of Fools (2000)   \n",
              "\n",
              "                 genres  imdbId  tmdbId  \n",
              "0                 Drama  181618   36048  \n",
              "1  Comedy|Drama|Romance  164756     139  \n",
              "2                Comedy  235872  210307  \n",
              "3                Comedy  199290   47816  \n",
              "4          Comedy|Crime  194368   20682  "
            ],
            "text/html": [
              "<div>\n",
              "<style scoped>\n",
              "    .dataframe tbody tr th:only-of-type {\n",
              "        vertical-align: middle;\n",
              "    }\n",
              "\n",
              "    .dataframe tbody tr th {\n",
              "        vertical-align: top;\n",
              "    }\n",
              "\n",
              "    .dataframe thead th {\n",
              "        text-align: right;\n",
              "    }\n",
              "</style>\n",
              "<table border=\"1\" class=\"dataframe\">\n",
              "  <thead>\n",
              "    <tr style=\"text-align: right;\">\n",
              "      <th></th>\n",
              "      <th>movieId</th>\n",
              "      <th>title</th>\n",
              "      <th>genres</th>\n",
              "      <th>imdbId</th>\n",
              "      <th>tmdbId</th>\n",
              "    </tr>\n",
              "  </thead>\n",
              "  <tbody>\n",
              "    <tr>\n",
              "      <th>0</th>\n",
              "      <td>3319</td>\n",
              "      <td>Judy Berlin (1999)</td>\n",
              "      <td>Drama</td>\n",
              "      <td>181618</td>\n",
              "      <td>36048</td>\n",
              "    </tr>\n",
              "    <tr>\n",
              "      <th>1</th>\n",
              "      <td>3320</td>\n",
              "      <td>Mifune's Last Song (Mifunes sidste sang) (1999)</td>\n",
              "      <td>Comedy|Drama|Romance</td>\n",
              "      <td>164756</td>\n",
              "      <td>139</td>\n",
              "    </tr>\n",
              "    <tr>\n",
              "      <th>2</th>\n",
              "      <td>3321</td>\n",
              "      <td>Waiting Game, The (2000)</td>\n",
              "      <td>Comedy</td>\n",
              "      <td>235872</td>\n",
              "      <td>210307</td>\n",
              "    </tr>\n",
              "    <tr>\n",
              "      <th>3</th>\n",
              "      <td>3322</td>\n",
              "      <td>3 Strikes (2000)</td>\n",
              "      <td>Comedy</td>\n",
              "      <td>199290</td>\n",
              "      <td>47816</td>\n",
              "    </tr>\n",
              "    <tr>\n",
              "      <th>4</th>\n",
              "      <td>3323</td>\n",
              "      <td>Chain of Fools (2000)</td>\n",
              "      <td>Comedy|Crime</td>\n",
              "      <td>194368</td>\n",
              "      <td>20682</td>\n",
              "    </tr>\n",
              "  </tbody>\n",
              "</table>\n",
              "</div>"
            ]
          },
          "metadata": {},
          "execution_count": 48
        }
      ]
    },
    {
      "cell_type": "code",
      "source": [
        "# Merge ratings with movies\n",
        "rmm.reinitialize(pool_allocator=True, managed_memory=True)  # Reset GPU memory\n",
        "ratings_movies = ratings_df.merge(movies_links, on=\"movieId\", how=\"left\")\n",
        "del ratings_df, movies_links  # Free up memory\n",
        "gc.collect()\n",
        "ratings_movies.head()"
      ],
      "metadata": {
        "colab": {
          "base_uri": "https://localhost:8080/",
          "height": 206
        },
        "id": "4W5cFU7ddecU",
        "outputId": "8f4f6871-e8b8-4a91-cd39-e34ed67c0ff0"
      },
      "execution_count": 49,
      "outputs": [
        {
          "output_type": "execute_result",
          "data": {
            "text/plain": [
              "   userId  movieId  rating            timestamp                     title  \\\n",
              "0      24     2231     3.0  2001-07-04 07:47:33           Rounders (1998)   \n",
              "1      24     2268     3.0  2001-07-04 07:03:07    Few Good Men, A (1992)   \n",
              "2      24     2269     2.0  2001-07-04 08:03:51  Indecent Proposal (1993)   \n",
              "3      24     2273     3.0  2001-07-04 07:49:09          Rush Hour (1998)   \n",
              "4      24     2278     2.0  2001-07-04 07:48:23              Ronin (1998)   \n",
              "\n",
              "                         genres  imdbId  tmdbId  \n",
              "0                         Drama  128442   10220  \n",
              "1          Crime|Drama|Thriller  104257     881  \n",
              "2                 Drama|Romance  107211    4478  \n",
              "3  Action|Comedy|Crime|Thriller  120812    2109  \n",
              "4         Action|Crime|Thriller  122690    8195  "
            ],
            "text/html": [
              "<div>\n",
              "<style scoped>\n",
              "    .dataframe tbody tr th:only-of-type {\n",
              "        vertical-align: middle;\n",
              "    }\n",
              "\n",
              "    .dataframe tbody tr th {\n",
              "        vertical-align: top;\n",
              "    }\n",
              "\n",
              "    .dataframe thead th {\n",
              "        text-align: right;\n",
              "    }\n",
              "</style>\n",
              "<table border=\"1\" class=\"dataframe\">\n",
              "  <thead>\n",
              "    <tr style=\"text-align: right;\">\n",
              "      <th></th>\n",
              "      <th>userId</th>\n",
              "      <th>movieId</th>\n",
              "      <th>rating</th>\n",
              "      <th>timestamp</th>\n",
              "      <th>title</th>\n",
              "      <th>genres</th>\n",
              "      <th>imdbId</th>\n",
              "      <th>tmdbId</th>\n",
              "    </tr>\n",
              "  </thead>\n",
              "  <tbody>\n",
              "    <tr>\n",
              "      <th>0</th>\n",
              "      <td>24</td>\n",
              "      <td>2231</td>\n",
              "      <td>3.0</td>\n",
              "      <td>2001-07-04 07:47:33</td>\n",
              "      <td>Rounders (1998)</td>\n",
              "      <td>Drama</td>\n",
              "      <td>128442</td>\n",
              "      <td>10220</td>\n",
              "    </tr>\n",
              "    <tr>\n",
              "      <th>1</th>\n",
              "      <td>24</td>\n",
              "      <td>2268</td>\n",
              "      <td>3.0</td>\n",
              "      <td>2001-07-04 07:03:07</td>\n",
              "      <td>Few Good Men, A (1992)</td>\n",
              "      <td>Crime|Drama|Thriller</td>\n",
              "      <td>104257</td>\n",
              "      <td>881</td>\n",
              "    </tr>\n",
              "    <tr>\n",
              "      <th>2</th>\n",
              "      <td>24</td>\n",
              "      <td>2269</td>\n",
              "      <td>2.0</td>\n",
              "      <td>2001-07-04 08:03:51</td>\n",
              "      <td>Indecent Proposal (1993)</td>\n",
              "      <td>Drama|Romance</td>\n",
              "      <td>107211</td>\n",
              "      <td>4478</td>\n",
              "    </tr>\n",
              "    <tr>\n",
              "      <th>3</th>\n",
              "      <td>24</td>\n",
              "      <td>2273</td>\n",
              "      <td>3.0</td>\n",
              "      <td>2001-07-04 07:49:09</td>\n",
              "      <td>Rush Hour (1998)</td>\n",
              "      <td>Action|Comedy|Crime|Thriller</td>\n",
              "      <td>120812</td>\n",
              "      <td>2109</td>\n",
              "    </tr>\n",
              "    <tr>\n",
              "      <th>4</th>\n",
              "      <td>24</td>\n",
              "      <td>2278</td>\n",
              "      <td>2.0</td>\n",
              "      <td>2001-07-04 07:48:23</td>\n",
              "      <td>Ronin (1998)</td>\n",
              "      <td>Action|Crime|Thriller</td>\n",
              "      <td>122690</td>\n",
              "      <td>8195</td>\n",
              "    </tr>\n",
              "  </tbody>\n",
              "</table>\n",
              "</div>"
            ]
          },
          "metadata": {},
          "execution_count": 49
        }
      ]
    },
    {
      "cell_type": "code",
      "source": [
        "rmm.reinitialize(pool_allocator=True, managed_memory=True)  # Reset GPU memory\n",
        "# Merge genome scores with genome tags\n",
        "genome_data = genome_scores_df.merge(genome_tags_df, on=\"tagId\", how=\"left\")\n",
        "del genome_tags_df  # Free up memory\n",
        "gc.collect()\n",
        "genome_data.head()"
      ],
      "metadata": {
        "colab": {
          "base_uri": "https://localhost:8080/",
          "height": 206
        },
        "id": "j4tgHOWVdkGq",
        "outputId": "8435aab3-1423-4c63-e28e-a8a21adee214"
      },
      "execution_count": 50,
      "outputs": [
        {
          "output_type": "execute_result",
          "data": {
            "text/plain": [
              "   movieId  tagId  relevance             tag\n",
              "0        4    457    0.03100      goretastic\n",
              "1        4    458    0.08000            gory\n",
              "2        4    459    0.10900            goth\n",
              "3        4    460    0.04125          gothic\n",
              "4        4    461    0.04175  graphic design"
            ],
            "text/html": [
              "<div>\n",
              "<style scoped>\n",
              "    .dataframe tbody tr th:only-of-type {\n",
              "        vertical-align: middle;\n",
              "    }\n",
              "\n",
              "    .dataframe tbody tr th {\n",
              "        vertical-align: top;\n",
              "    }\n",
              "\n",
              "    .dataframe thead th {\n",
              "        text-align: right;\n",
              "    }\n",
              "</style>\n",
              "<table border=\"1\" class=\"dataframe\">\n",
              "  <thead>\n",
              "    <tr style=\"text-align: right;\">\n",
              "      <th></th>\n",
              "      <th>movieId</th>\n",
              "      <th>tagId</th>\n",
              "      <th>relevance</th>\n",
              "      <th>tag</th>\n",
              "    </tr>\n",
              "  </thead>\n",
              "  <tbody>\n",
              "    <tr>\n",
              "      <th>0</th>\n",
              "      <td>4</td>\n",
              "      <td>457</td>\n",
              "      <td>0.03100</td>\n",
              "      <td>goretastic</td>\n",
              "    </tr>\n",
              "    <tr>\n",
              "      <th>1</th>\n",
              "      <td>4</td>\n",
              "      <td>458</td>\n",
              "      <td>0.08000</td>\n",
              "      <td>gory</td>\n",
              "    </tr>\n",
              "    <tr>\n",
              "      <th>2</th>\n",
              "      <td>4</td>\n",
              "      <td>459</td>\n",
              "      <td>0.10900</td>\n",
              "      <td>goth</td>\n",
              "    </tr>\n",
              "    <tr>\n",
              "      <th>3</th>\n",
              "      <td>4</td>\n",
              "      <td>460</td>\n",
              "      <td>0.04125</td>\n",
              "      <td>gothic</td>\n",
              "    </tr>\n",
              "    <tr>\n",
              "      <th>4</th>\n",
              "      <td>4</td>\n",
              "      <td>461</td>\n",
              "      <td>0.04175</td>\n",
              "      <td>graphic design</td>\n",
              "    </tr>\n",
              "  </tbody>\n",
              "</table>\n",
              "</div>"
            ]
          },
          "metadata": {},
          "execution_count": 50
        }
      ]
    },
    {
      "cell_type": "code",
      "source": [
        "rmm.reinitialize(pool_allocator=True, managed_memory=True)\n",
        "# Merge tags with movies\n",
        "tags_movies = tags_df.merge(movies_df, on=\"movieId\", how=\"left\")\n",
        "del tags_df  # Free up memory\n",
        "gc.collect()\n",
        "tags_movies.head()"
      ],
      "metadata": {
        "colab": {
          "base_uri": "https://localhost:8080/",
          "height": 293
        },
        "id": "92y5cbxsdlDf",
        "outputId": "acc43e83-e776-4467-9b46-1571946f57d8"
      },
      "execution_count": 51,
      "outputs": [
        {
          "output_type": "execute_result",
          "data": {
            "text/plain": [
              "   userId  movieId                            tag            timestamp  \\\n",
              "0    1741      952             author:Jules Verne  2009-03-20 19:52:02   \n",
              "1    1741      953           angelic intervention  2007-07-21 03:55:40   \n",
              "2    1741      953                     Xmas theme  2007-06-10 13:38:54   \n",
              "3    1741      954  subgenre:political corruption  2009-05-02 16:39:51   \n",
              "4    1741      954  topic:US political corruption  2008-10-04 02:21:29   \n",
              "\n",
              "                                 title                 genres  \n",
              "0   Around the World in 80 Days (1956)       Adventure|Comedy  \n",
              "1         It's a Wonderful Life (1946)  Drama|Fantasy|Romance  \n",
              "2         It's a Wonderful Life (1946)  Drama|Fantasy|Romance  \n",
              "3  Mr. Smith Goes to Washington (1939)                  Drama  \n",
              "4  Mr. Smith Goes to Washington (1939)                  Drama  "
            ],
            "text/html": [
              "<div>\n",
              "<style scoped>\n",
              "    .dataframe tbody tr th:only-of-type {\n",
              "        vertical-align: middle;\n",
              "    }\n",
              "\n",
              "    .dataframe tbody tr th {\n",
              "        vertical-align: top;\n",
              "    }\n",
              "\n",
              "    .dataframe thead th {\n",
              "        text-align: right;\n",
              "    }\n",
              "</style>\n",
              "<table border=\"1\" class=\"dataframe\">\n",
              "  <thead>\n",
              "    <tr style=\"text-align: right;\">\n",
              "      <th></th>\n",
              "      <th>userId</th>\n",
              "      <th>movieId</th>\n",
              "      <th>tag</th>\n",
              "      <th>timestamp</th>\n",
              "      <th>title</th>\n",
              "      <th>genres</th>\n",
              "    </tr>\n",
              "  </thead>\n",
              "  <tbody>\n",
              "    <tr>\n",
              "      <th>0</th>\n",
              "      <td>1741</td>\n",
              "      <td>952</td>\n",
              "      <td>author:Jules Verne</td>\n",
              "      <td>2009-03-20 19:52:02</td>\n",
              "      <td>Around the World in 80 Days (1956)</td>\n",
              "      <td>Adventure|Comedy</td>\n",
              "    </tr>\n",
              "    <tr>\n",
              "      <th>1</th>\n",
              "      <td>1741</td>\n",
              "      <td>953</td>\n",
              "      <td>angelic intervention</td>\n",
              "      <td>2007-07-21 03:55:40</td>\n",
              "      <td>It's a Wonderful Life (1946)</td>\n",
              "      <td>Drama|Fantasy|Romance</td>\n",
              "    </tr>\n",
              "    <tr>\n",
              "      <th>2</th>\n",
              "      <td>1741</td>\n",
              "      <td>953</td>\n",
              "      <td>Xmas theme</td>\n",
              "      <td>2007-06-10 13:38:54</td>\n",
              "      <td>It's a Wonderful Life (1946)</td>\n",
              "      <td>Drama|Fantasy|Romance</td>\n",
              "    </tr>\n",
              "    <tr>\n",
              "      <th>3</th>\n",
              "      <td>1741</td>\n",
              "      <td>954</td>\n",
              "      <td>subgenre:political corruption</td>\n",
              "      <td>2009-05-02 16:39:51</td>\n",
              "      <td>Mr. Smith Goes to Washington (1939)</td>\n",
              "      <td>Drama</td>\n",
              "    </tr>\n",
              "    <tr>\n",
              "      <th>4</th>\n",
              "      <td>1741</td>\n",
              "      <td>954</td>\n",
              "      <td>topic:US political corruption</td>\n",
              "      <td>2008-10-04 02:21:29</td>\n",
              "      <td>Mr. Smith Goes to Washington (1939)</td>\n",
              "      <td>Drama</td>\n",
              "    </tr>\n",
              "  </tbody>\n",
              "</table>\n",
              "</div>"
            ]
          },
          "metadata": {},
          "execution_count": 51
        }
      ]
    },
    {
      "cell_type": "code",
      "source": [
        "check_memory()"
      ],
      "metadata": {
        "colab": {
          "base_uri": "https://localhost:8080/"
        },
        "id": "9RNoAbiNf1HF",
        "outputId": "db6c5532-7381-43d8-a0ce-25389fb7b827"
      },
      "execution_count": 52,
      "outputs": [
        {
          "output_type": "stream",
          "name": "stdout",
          "text": [
            "GPU Memory - Total: 0.00 GB, Used: 0.00 GB, Free: 0.00 GB\n"
          ]
        }
      ]
    },
    {
      "cell_type": "code",
      "source": [
        "print(\"ratings_movies:\",ratings_movies.columns)\n",
        "print(\"genome_data:\",genome_data.columns)\n",
        "print(\"tags_movies:\",tags_movies.columns)"
      ],
      "metadata": {
        "colab": {
          "base_uri": "https://localhost:8080/"
        },
        "id": "07v4JiPido6j",
        "outputId": "69b36f55-24f0-4d4b-b0aa-1c894ab0f1e0"
      },
      "execution_count": 53,
      "outputs": [
        {
          "output_type": "stream",
          "name": "stdout",
          "text": [
            "ratings_movies: Index(['userId', 'movieId', 'rating', 'timestamp', 'title', 'genres', 'imdbId',\n",
            "       'tmdbId'],\n",
            "      dtype='object')\n",
            "genome_data: Index(['movieId', 'tagId', 'relevance', 'tag'], dtype='object')\n",
            "tags_movies: Index(['userId', 'movieId', 'tag', 'timestamp', 'title', 'genres'], dtype='object')\n"
          ]
        }
      ]
    },
    {
      "cell_type": "code",
      "source": [
        "ratings_movies = ratings_movies[[\"userId\", \"movieId\", \"rating\", \"title\", \"genres\",\"timestamp\"]]\n",
        "genome_data = genome_data[[\"movieId\", \"tag\", \"relevance\"]]\n",
        "tags_movies = tags_movies[[\"userId\", \"movieId\", \"tag\"]]\n",
        "#Remove repeated columns"
      ],
      "metadata": {
        "id": "znmkRSHpdrB3"
      },
      "execution_count": 54,
      "outputs": []
    },
    {
      "cell_type": "code",
      "source": [
        "print(\"ratings_movies:\",ratings_movies.info())\n",
        "print(\"genome_data:\",genome_data.info())\n",
        "print(\"tags_movies:\",tags_movies.info())"
      ],
      "metadata": {
        "colab": {
          "base_uri": "https://localhost:8080/"
        },
        "id": "SNZEx2xJdrzu",
        "outputId": "d67bf796-d7c1-4417-98a0-b44a11a7dd0a"
      },
      "execution_count": 55,
      "outputs": [
        {
          "output_type": "stream",
          "name": "stdout",
          "text": [
            "<class 'cudf.core.dataframe.DataFrame'>\n",
            "RangeIndex: 20000263 entries, 0 to 20000262\n",
            "Data columns (total 6 columns):\n",
            " #   Column     Dtype\n",
            "---  ------     -----\n",
            " 0   userId     int64\n",
            " 1   movieId    int64\n",
            " 2   rating     float64\n",
            " 3   title      object\n",
            " 4   genres     object\n",
            " 5   timestamp  object\n",
            "dtypes: float64(1), int64(2), object(3)\n",
            "memory usage: 1.8+ GB\n",
            "ratings_movies: None\n",
            "<class 'cudf.core.dataframe.DataFrame'>\n",
            "RangeIndex: 11709768 entries, 0 to 11709767\n",
            "Data columns (total 3 columns):\n",
            " #   Column     Dtype\n",
            "---  ------     -----\n",
            " 0   movieId    int64\n",
            " 1   tag        object\n",
            " 2   relevance  float64\n",
            "dtypes: float64(1), int64(1), object(1)\n",
            "memory usage: 335.2+ MB\n",
            "genome_data: None\n",
            "<class 'cudf.core.dataframe.DataFrame'>\n",
            "RangeIndex: 465426 entries, 0 to 465425\n",
            "Data columns (total 3 columns):\n",
            " #   Column   Non-Null Count   Dtype\n",
            "---  ------   --------------   -----\n",
            " 0   userId   465426 non-null  int64\n",
            " 1   movieId  465426 non-null  int64\n",
            " 2   tag      465426 non-null  object\n",
            "dtypes: int64(2), object(1)\n",
            "memory usage: 13.8+ MB\n",
            "tags_movies: None\n"
          ]
        }
      ]
    }
  ]
}