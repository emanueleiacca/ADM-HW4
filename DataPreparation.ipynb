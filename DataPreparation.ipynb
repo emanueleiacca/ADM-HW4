{
  "metadata": {
    "kernelspec": {
      "display_name": "Python 3",
      "name": "python3"
    },
    "language_info": {
      "name": "python",
      "version": "3.10.14",
      "mimetype": "text/x-python",
      "codemirror_mode": {
        "name": "ipython",
        "version": 3
      },
      "pygments_lexer": "ipython3",
      "nbconvert_exporter": "python",
      "file_extension": ".py"
    },
    "kaggle": {
      "accelerator": "nvidiaTeslaT4",
      "dataSources": [
        {
          "sourceId": 77759,
          "sourceType": "datasetVersion",
          "datasetId": 339
        }
      ],
      "dockerImageVersionId": 30787,
      "isInternetEnabled": true,
      "language": "python",
      "sourceType": "notebook",
      "isGpuEnabled": true
    },
    "colab": {
      "name": "notebook88cc391b18",
      "provenance": [],
      "gpuType": "T4",
      "include_colab_link": true
    },
    "accelerator": "GPU"
  },
  "nbformat_minor": 0,
  "nbformat": 4,
  "cells": [
    {
      "cell_type": "markdown",
      "metadata": {
        "id": "view-in-github",
        "colab_type": "text"
      },
      "source": [
        "<a href=\"https://colab.research.google.com/github/emanueleiacca/ADM-HW4/blob/main/DataPreparation.ipynb\" target=\"_parent\"><img src=\"https://colab.research.google.com/assets/colab-badge.svg\" alt=\"Open In Colab\"/></a>"
      ]
    },
    {
      "source": [
        "# IMPORTANT: RUN THIS CELL IN ORDER TO IMPORT YOUR KAGGLE DATA SOURCES,\n",
        "# THEN FEEL FREE TO DELETE THIS CELL.\n",
        "# NOTE: THIS NOTEBOOK ENVIRONMENT DIFFERS FROM KAGGLE'S PYTHON\n",
        "# ENVIRONMENT SO THERE MAY BE MISSING LIBRARIES USED BY YOUR\n",
        "# NOTEBOOK.\n",
        "import kagglehub\n",
        "#movielens_20m_dataset_path = kagglehub.dataset_download('grouplens/movielens-20m-dataset')\n",
        "print('Data source import complete.')\n"
      ],
      "metadata": {
        "colab": {
          "base_uri": "https://localhost:8080/"
        },
        "id": "A7UtSgiacHNM",
        "outputId": "db577460-457b-431b-d10e-836372c962c2"
      },
      "cell_type": "code",
      "outputs": [
        {
          "output_type": "stream",
          "name": "stdout",
          "text": [
            "Data source import complete.\n"
          ]
        }
      ],
      "execution_count": 1
    },
    {
      "cell_type": "code",
      "source": [
        "# This Python 3 environment comes with many helpful analytics libraries installed\n",
        "# It is defined by the kaggle/python Docker image: https://github.com/kaggle/docker-python\n",
        "# For example, here's several helpful packages to load\n",
        "\n",
        "import numpy as np # linear algebra\n",
        "import pandas as pd # data processing, CSV file I/O (e.g. pd.read_csv)\n",
        "\n",
        "# Input data files are available in the read-only \"../input/\" directory\n",
        "# For example, running this (by clicking run or pressing Shift+Enter) will list all files under the input directory\n",
        "\n",
        "import os\n",
        "for dirname, _, filenames in os.walk('/root/.cache/kagglehub/datasets/grouplens/movielens-20m-dataset/versions/1'):\n",
        "    for filename in filenames:\n",
        "        print(os.path.join(dirname, filename))\n",
        "\n",
        "# You can write up to 20GB to the current directory (/kaggle/working/) that gets preserved as output when you create a version using \"Save & Run All\"\n",
        "# You can also write temporary files to /kaggle/temp/, but they won't be saved outside of the current session"
      ],
      "metadata": {
        "_uuid": "8f2839f25d086af736a60e9eeb907d3b93b6e0e5",
        "_cell_guid": "b1076dfc-b9ad-4769-8c92-a6c4dae69d19",
        "trusted": true,
        "execution": {
          "iopub.status.busy": "2024-11-21T15:48:31.047394Z",
          "iopub.execute_input": "2024-11-21T15:48:31.047712Z",
          "iopub.status.idle": "2024-11-21T15:48:32.104745Z",
          "shell.execute_reply.started": "2024-11-21T15:48:31.047676Z",
          "shell.execute_reply": "2024-11-21T15:48:32.103715Z"
        },
        "id": "4gzBZH_dcHNP"
      },
      "outputs": [],
      "execution_count": 2
    },
    {
      "cell_type": "code",
      "source": [
        "!nvcc --version"
      ],
      "metadata": {
        "trusted": true,
        "execution": {
          "iopub.status.busy": "2024-11-21T15:48:30.974853Z",
          "iopub.execute_input": "2024-11-21T15:48:30.975183Z",
          "iopub.status.idle": "2024-11-21T15:48:31.04437Z",
          "shell.execute_reply.started": "2024-11-21T15:48:30.975145Z",
          "shell.execute_reply": "2024-11-21T15:48:31.04248Z"
        },
        "colab": {
          "base_uri": "https://localhost:8080/"
        },
        "id": "yfyYWT2ccHNQ",
        "outputId": "655ff2a0-23c6-45e0-e6ee-0da1a812f1a4"
      },
      "outputs": [
        {
          "output_type": "stream",
          "name": "stdout",
          "text": [
            "nvcc: NVIDIA (R) Cuda compiler driver\n",
            "Copyright (c) 2005-2023 NVIDIA Corporation\n",
            "Built on Tue_Aug_15_22:02:13_PDT_2023\n",
            "Cuda compilation tools, release 12.2, V12.2.140\n",
            "Build cuda_12.2.r12.2/compiler.33191640_0\n"
          ]
        }
      ],
      "execution_count": 3
    },
    {
      "cell_type": "markdown",
      "source": [
        "https://github.com/rapidsai/cudf?tab=readme-ov-file#pip"
      ],
      "metadata": {
        "id": "SnhfOwS_cHNR"
      }
    },
    {
      "cell_type": "code",
      "source": [
        "pip install --extra-index-url=https://pypi.nvidia.com cudf-cu12"
      ],
      "metadata": {
        "collapsed": true,
        "id": "wmeH4BudqP-7",
        "outputId": "3d699cba-a489-4e2d-8a9d-456d8af9c038",
        "colab": {
          "base_uri": "https://localhost:8080/"
        }
      },
      "execution_count": 4,
      "outputs": [
        {
          "output_type": "stream",
          "name": "stdout",
          "text": [
            "Looking in indexes: https://pypi.org/simple, https://pypi.nvidia.com\n",
            "Requirement already satisfied: cudf-cu12 in /usr/local/lib/python3.10/dist-packages (24.10.1)\n",
            "Requirement already satisfied: cachetools in /usr/local/lib/python3.10/dist-packages (from cudf-cu12) (5.5.0)\n",
            "Requirement already satisfied: cuda-python<13.0a0,>=12.0 in /usr/local/lib/python3.10/dist-packages (from cudf-cu12) (12.2.1)\n",
            "Requirement already satisfied: cupy-cuda12x>=12.0.0 in /usr/local/lib/python3.10/dist-packages (from cudf-cu12) (12.2.0)\n",
            "Requirement already satisfied: fsspec>=0.6.0 in /usr/local/lib/python3.10/dist-packages (from cudf-cu12) (2024.10.0)\n",
            "Requirement already satisfied: libcudf-cu12==24.10.* in /usr/local/lib/python3.10/dist-packages (from cudf-cu12) (24.10.1)\n",
            "Requirement already satisfied: numba>=0.57 in /usr/local/lib/python3.10/dist-packages (from cudf-cu12) (0.60.0)\n",
            "Requirement already satisfied: numpy<3.0a0,>=1.23 in /usr/local/lib/python3.10/dist-packages (from cudf-cu12) (1.26.4)\n",
            "Requirement already satisfied: nvtx>=0.2.1 in /usr/local/lib/python3.10/dist-packages (from cudf-cu12) (0.2.10)\n",
            "Requirement already satisfied: packaging in /usr/local/lib/python3.10/dist-packages (from cudf-cu12) (24.2)\n",
            "Requirement already satisfied: pandas<2.2.3dev0,>=2.0 in /usr/local/lib/python3.10/dist-packages (from cudf-cu12) (2.2.2)\n",
            "Requirement already satisfied: pyarrow<18.0.0a0,>=14.0.0 in /usr/local/lib/python3.10/dist-packages (from cudf-cu12) (17.0.0)\n",
            "Requirement already satisfied: pylibcudf-cu12==24.10.* in /usr/local/lib/python3.10/dist-packages (from cudf-cu12) (24.10.1)\n",
            "Requirement already satisfied: pynvjitlink-cu12 in /usr/local/lib/python3.10/dist-packages (from cudf-cu12) (0.4.0)\n",
            "Requirement already satisfied: rich in /usr/local/lib/python3.10/dist-packages (from cudf-cu12) (13.9.4)\n",
            "Requirement already satisfied: rmm-cu12==24.10.* in /usr/local/lib/python3.10/dist-packages (from cudf-cu12) (24.10.0)\n",
            "Requirement already satisfied: typing_extensions>=4.0.0 in /usr/local/lib/python3.10/dist-packages (from cudf-cu12) (4.12.2)\n",
            "Requirement already satisfied: cython in /usr/local/lib/python3.10/dist-packages (from cuda-python<13.0a0,>=12.0->cudf-cu12) (3.0.11)\n",
            "Requirement already satisfied: fastrlock>=0.5 in /usr/local/lib/python3.10/dist-packages (from cupy-cuda12x>=12.0.0->cudf-cu12) (0.8.2)\n",
            "Requirement already satisfied: llvmlite<0.44,>=0.43.0dev0 in /usr/local/lib/python3.10/dist-packages (from numba>=0.57->cudf-cu12) (0.43.0)\n",
            "Requirement already satisfied: python-dateutil>=2.8.2 in /usr/local/lib/python3.10/dist-packages (from pandas<2.2.3dev0,>=2.0->cudf-cu12) (2.8.2)\n",
            "Requirement already satisfied: pytz>=2020.1 in /usr/local/lib/python3.10/dist-packages (from pandas<2.2.3dev0,>=2.0->cudf-cu12) (2024.2)\n",
            "Requirement already satisfied: tzdata>=2022.7 in /usr/local/lib/python3.10/dist-packages (from pandas<2.2.3dev0,>=2.0->cudf-cu12) (2024.2)\n",
            "Requirement already satisfied: markdown-it-py>=2.2.0 in /usr/local/lib/python3.10/dist-packages (from rich->cudf-cu12) (3.0.0)\n",
            "Requirement already satisfied: pygments<3.0.0,>=2.13.0 in /usr/local/lib/python3.10/dist-packages (from rich->cudf-cu12) (2.18.0)\n",
            "Requirement already satisfied: mdurl~=0.1 in /usr/local/lib/python3.10/dist-packages (from markdown-it-py>=2.2.0->rich->cudf-cu12) (0.1.2)\n",
            "Requirement already satisfied: six>=1.5 in /usr/local/lib/python3.10/dist-packages (from python-dateutil>=2.8.2->pandas<2.2.3dev0,>=2.0->cudf-cu12) (1.16.0)\n"
          ]
        }
      ]
    },
    {
      "cell_type": "code",
      "source": [
        "import rmm\n",
        "import cudf\n",
        "rmm.reinitialize(pool_allocator=True, managed_memory=True)\n",
        "print(\"RAPIDS cuDF is using GPU memory:\", rmm.is_initialized())"
      ],
      "metadata": {
        "trusted": true,
        "execution": {
          "iopub.status.busy": "2024-11-21T15:56:00.105075Z",
          "iopub.execute_input": "2024-11-21T15:56:00.105516Z",
          "iopub.status.idle": "2024-11-21T15:56:00.825162Z",
          "shell.execute_reply.started": "2024-11-21T15:56:00.10546Z",
          "shell.execute_reply": "2024-11-21T15:56:00.823729Z"
        },
        "colab": {
          "base_uri": "https://localhost:8080/"
        },
        "id": "LgQkBpLncHNU",
        "outputId": "47b62c32-861a-442a-aacc-aff085327608"
      },
      "outputs": [
        {
          "output_type": "stream",
          "name": "stdout",
          "text": [
            "RAPIDS cuDF is using GPU memory: True\n"
          ]
        }
      ],
      "execution_count": 5
    },
    {
      "cell_type": "code",
      "source": [
        "import cupy as cp\n",
        "\n",
        "def check_memory():\n",
        "    memory_pool = cp.get_default_memory_pool()\n",
        "    total_memory = cp.cuda.Device(0).mem_info[0]  # Total memory available\n",
        "    used_memory = memory_pool.used_bytes()       # Memory allocated by the pool\n",
        "    free_memory = total_memory - used_memory\n",
        "    print(f\"GPU Memory - Total: {total_memory / (1024**3):.2f} GB, Used: {used_memory / (1024**3):.2f} GB, Free: {free_memory / (1024**3):.2f} GB\")\n",
        "\n",
        "check_memory()"
      ],
      "metadata": {
        "colab": {
          "base_uri": "https://localhost:8080/"
        },
        "id": "kqJd1wf9fOUX",
        "outputId": "0c20a438-f6be-4f33-a833-7996345607fa"
      },
      "execution_count": 6,
      "outputs": [
        {
          "output_type": "stream",
          "name": "stdout",
          "text": [
            "GPU Memory - Total: 14.65 GB, Used: 0.00 GB, Free: 14.65 GB\n"
          ]
        }
      ]
    },
    {
      "cell_type": "code",
      "source": [
        "movielens_20m_dataset_path = kagglehub.dataset_download('grouplens/movielens-20m-dataset')\n",
        "\n",
        "\n",
        "dataset_directory = '/root/.cache/kagglehub/datasets/grouplens/movielens-20m-dataset/versions/1'\n",
        "\n",
        "for dirname, _, filenames in os.walk(dataset_directory):\n",
        "    for filename in filenames:\n",
        "        print(f\"File trovato: {filename}\")"
      ],
      "metadata": {
        "id": "Wz931DYYrjs3",
        "outputId": "194015a5-a50e-49aa-c83e-4dc7468d4fc6",
        "colab": {
          "base_uri": "https://localhost:8080/"
        }
      },
      "execution_count": 9,
      "outputs": [
        {
          "output_type": "stream",
          "name": "stdout",
          "text": [
            "File trovato: genome_scores.csv\n",
            "File trovato: tag.csv\n",
            "File trovato: movie.csv\n",
            "File trovato: genome_tags.csv\n",
            "File trovato: rating.csv\n",
            "File trovato: link.csv\n"
          ]
        }
      ]
    },
    {
      "cell_type": "code",
      "source": [
        "ratings_df = cudf.read_csv(\"/root/.cache/kagglehub/datasets/grouplens/movielens-20m-dataset/versions/1/rating.csv\")\n",
        "links_df = cudf.read_csv(\"/root/.cache/kagglehub/datasets/grouplens/movielens-20m-dataset/versions/1/link.csv\")\n",
        "genome_tags_df = cudf.read_csv(\"/root/.cache/kagglehub/datasets/grouplens/movielens-20m-dataset/versions/1/genome_tags.csv\")\n",
        "genome_scores_df = cudf.read_csv(\"/root/.cache/kagglehub/datasets/grouplens/movielens-20m-dataset/versions/1/genome_scores.csv\")\n",
        "tags_df = cudf.read_csv(\"/root/.cache/kagglehub/datasets/grouplens/movielens-20m-dataset/versions/1/tag.csv\")\n",
        "movies_df = cudf.read_csv(\"/root/.cache/kagglehub/datasets/grouplens/movielens-20m-dataset/versions/1/movie.csv\")\n"
      ],
      "metadata": {
        "id": "dMPX14dVdDIo"
      },
      "execution_count": 10,
      "outputs": []
    },
    {
      "cell_type": "code",
      "source": [
        "check_memory()"
      ],
      "metadata": {
        "colab": {
          "base_uri": "https://localhost:8080/"
        },
        "id": "UYbW2owMfdVm",
        "outputId": "12d9d2a5-48a2-492b-8708-f9c74de817b4"
      },
      "execution_count": 11,
      "outputs": [
        {
          "output_type": "stream",
          "name": "stdout",
          "text": [
            "GPU Memory - Total: 10.77 GB, Used: 0.00 GB, Free: 10.77 GB\n"
          ]
        }
      ]
    },
    {
      "cell_type": "code",
      "source": [
        "print(\"ratings_df:\",ratings_df.columns)\n",
        "print(\"links_df:\",links_df.columns)\n",
        "print(\"genome_tags_df:\",genome_tags_df.columns)\n",
        "print(\"genome_scores_df:\",genome_scores_df.columns)\n",
        "print(\"tags_df:\",tags_df.columns)\n",
        "print(\"movies_df:\",movies_df.columns)"
      ],
      "metadata": {
        "colab": {
          "base_uri": "https://localhost:8080/"
        },
        "id": "wyfdN1PedZpg",
        "outputId": "8b917a72-fd77-4e2f-9476-fa430026a5af"
      },
      "execution_count": 12,
      "outputs": [
        {
          "output_type": "stream",
          "name": "stdout",
          "text": [
            "ratings_df: Index(['userId', 'movieId', 'rating', 'timestamp'], dtype='object')\n",
            "links_df: Index(['movieId', 'imdbId', 'tmdbId'], dtype='object')\n",
            "genome_tags_df: Index(['tagId', 'tag'], dtype='object')\n",
            "genome_scores_df: Index(['movieId', 'tagId', 'relevance'], dtype='object')\n",
            "tags_df: Index(['userId', 'movieId', 'tag', 'timestamp'], dtype='object')\n",
            "movies_df: Index(['movieId', 'title', 'genres'], dtype='object')\n"
          ]
        }
      ]
    },
    {
      "cell_type": "code",
      "source": [
        "import gc\n",
        "rmm.reinitialize(pool_allocator=True, managed_memory=True)  # Reset GPU memory\n",
        "movies_links = movies_df.merge(links_df, on=\"movieId\", how=\"left\")\n",
        "del links_df  # Free up memory\n",
        "gc.collect()\n",
        "movies_links.head()"
      ],
      "metadata": {
        "colab": {
          "base_uri": "https://localhost:8080/",
          "height": 201
        },
        "id": "D7VWRIbidbQW",
        "outputId": "1160cbd8-da67-4ddd-884d-b812219f7c68"
      },
      "execution_count": null,
      "outputs": [
        {
          "output_type": "execute_result",
          "data": {
            "text/plain": [
              "   movieId                                              title  \\\n",
              "0     1571  When the Cat's Away (Chacun cherche son chat) ...   \n",
              "1     1572                       Contempt (Mépris, Le) (1963)   \n",
              "2     1573                                    Face/Off (1997)   \n",
              "3     1574                                        Fall (1997)   \n",
              "4     1575                                      Gabbeh (1996)   \n",
              "\n",
              "                        genres  imdbId  tmdbId  \n",
              "0               Comedy|Romance  115856   11956  \n",
              "1                        Drama   57345     266  \n",
              "2  Action|Crime|Drama|Thriller  119094     754  \n",
              "3                      Romance  119098   37567  \n",
              "4                        Drama  116384   43771  "
            ],
            "text/html": [
              "<div>\n",
              "<style scoped>\n",
              "    .dataframe tbody tr th:only-of-type {\n",
              "        vertical-align: middle;\n",
              "    }\n",
              "\n",
              "    .dataframe tbody tr th {\n",
              "        vertical-align: top;\n",
              "    }\n",
              "\n",
              "    .dataframe thead th {\n",
              "        text-align: right;\n",
              "    }\n",
              "</style>\n",
              "<table border=\"1\" class=\"dataframe\">\n",
              "  <thead>\n",
              "    <tr style=\"text-align: right;\">\n",
              "      <th></th>\n",
              "      <th>movieId</th>\n",
              "      <th>title</th>\n",
              "      <th>genres</th>\n",
              "      <th>imdbId</th>\n",
              "      <th>tmdbId</th>\n",
              "    </tr>\n",
              "  </thead>\n",
              "  <tbody>\n",
              "    <tr>\n",
              "      <th>0</th>\n",
              "      <td>1571</td>\n",
              "      <td>When the Cat's Away (Chacun cherche son chat) ...</td>\n",
              "      <td>Comedy|Romance</td>\n",
              "      <td>115856</td>\n",
              "      <td>11956</td>\n",
              "    </tr>\n",
              "    <tr>\n",
              "      <th>1</th>\n",
              "      <td>1572</td>\n",
              "      <td>Contempt (Mépris, Le) (1963)</td>\n",
              "      <td>Drama</td>\n",
              "      <td>57345</td>\n",
              "      <td>266</td>\n",
              "    </tr>\n",
              "    <tr>\n",
              "      <th>2</th>\n",
              "      <td>1573</td>\n",
              "      <td>Face/Off (1997)</td>\n",
              "      <td>Action|Crime|Drama|Thriller</td>\n",
              "      <td>119094</td>\n",
              "      <td>754</td>\n",
              "    </tr>\n",
              "    <tr>\n",
              "      <th>3</th>\n",
              "      <td>1574</td>\n",
              "      <td>Fall (1997)</td>\n",
              "      <td>Romance</td>\n",
              "      <td>119098</td>\n",
              "      <td>37567</td>\n",
              "    </tr>\n",
              "    <tr>\n",
              "      <th>4</th>\n",
              "      <td>1575</td>\n",
              "      <td>Gabbeh (1996)</td>\n",
              "      <td>Drama</td>\n",
              "      <td>116384</td>\n",
              "      <td>43771</td>\n",
              "    </tr>\n",
              "  </tbody>\n",
              "</table>\n",
              "</div>"
            ]
          },
          "metadata": {},
          "execution_count": 16
        }
      ]
    },
    {
      "cell_type": "code",
      "source": [
        "# Merge ratings with movies\n",
        "rmm.reinitialize(pool_allocator=True, managed_memory=True)  # Reset GPU memory\n",
        "ratings_movies = ratings_df.merge(movies_links, on=\"movieId\", how=\"left\")\n",
        "del ratings_df, movies_links  # Free up memory\n",
        "gc.collect()\n",
        "ratings_movies.head()"
      ],
      "metadata": {
        "colab": {
          "base_uri": "https://localhost:8080/",
          "height": 435
        },
        "id": "4W5cFU7ddecU",
        "outputId": "32093986-6f48-4b56-f97d-4b2ef2af6829"
      },
      "execution_count": null,
      "outputs": [
        {
          "output_type": "execute_result",
          "data": {
            "text/plain": [
              "   userId  movieId  rating            timestamp  \\\n",
              "0      91     1777     3.5  2005-09-12 06:51:11   \n",
              "1      91     1784     4.5  2005-03-22 22:41:47   \n",
              "2      91     1876     2.5  2005-09-12 06:56:26   \n",
              "3      91     1907     3.5  2005-03-23 06:27:08   \n",
              "4      91     1909     3.0  2005-04-11 06:37:49   \n",
              "\n",
              "                                   title  \\\n",
              "0             Wedding Singer, The (1998)   \n",
              "1              As Good as It Gets (1997)   \n",
              "2                     Deep Impact (1998)   \n",
              "3                           Mulan (1998)   \n",
              "4  X-Files: Fight the Future, The (1998)   \n",
              "\n",
              "                                              genres  imdbId  tmdbId  \n",
              "0                                     Comedy|Romance  120888   11003  \n",
              "1                               Comedy|Drama|Romance  119822    2898  \n",
              "2                              Drama|Sci-Fi|Thriller  120647    8656  \n",
              "3  Adventure|Animation|Children|Comedy|Drama|Musi...  120762   10674  \n",
              "4               Action|Crime|Mystery|Sci-Fi|Thriller  120902     846  "
            ],
            "text/html": [
              "<div>\n",
              "<style scoped>\n",
              "    .dataframe tbody tr th:only-of-type {\n",
              "        vertical-align: middle;\n",
              "    }\n",
              "\n",
              "    .dataframe tbody tr th {\n",
              "        vertical-align: top;\n",
              "    }\n",
              "\n",
              "    .dataframe thead th {\n",
              "        text-align: right;\n",
              "    }\n",
              "</style>\n",
              "<table border=\"1\" class=\"dataframe\">\n",
              "  <thead>\n",
              "    <tr style=\"text-align: right;\">\n",
              "      <th></th>\n",
              "      <th>userId</th>\n",
              "      <th>movieId</th>\n",
              "      <th>rating</th>\n",
              "      <th>timestamp</th>\n",
              "      <th>title</th>\n",
              "      <th>genres</th>\n",
              "      <th>imdbId</th>\n",
              "      <th>tmdbId</th>\n",
              "    </tr>\n",
              "  </thead>\n",
              "  <tbody>\n",
              "    <tr>\n",
              "      <th>0</th>\n",
              "      <td>91</td>\n",
              "      <td>1777</td>\n",
              "      <td>3.5</td>\n",
              "      <td>2005-09-12 06:51:11</td>\n",
              "      <td>Wedding Singer, The (1998)</td>\n",
              "      <td>Comedy|Romance</td>\n",
              "      <td>120888</td>\n",
              "      <td>11003</td>\n",
              "    </tr>\n",
              "    <tr>\n",
              "      <th>1</th>\n",
              "      <td>91</td>\n",
              "      <td>1784</td>\n",
              "      <td>4.5</td>\n",
              "      <td>2005-03-22 22:41:47</td>\n",
              "      <td>As Good as It Gets (1997)</td>\n",
              "      <td>Comedy|Drama|Romance</td>\n",
              "      <td>119822</td>\n",
              "      <td>2898</td>\n",
              "    </tr>\n",
              "    <tr>\n",
              "      <th>2</th>\n",
              "      <td>91</td>\n",
              "      <td>1876</td>\n",
              "      <td>2.5</td>\n",
              "      <td>2005-09-12 06:56:26</td>\n",
              "      <td>Deep Impact (1998)</td>\n",
              "      <td>Drama|Sci-Fi|Thriller</td>\n",
              "      <td>120647</td>\n",
              "      <td>8656</td>\n",
              "    </tr>\n",
              "    <tr>\n",
              "      <th>3</th>\n",
              "      <td>91</td>\n",
              "      <td>1907</td>\n",
              "      <td>3.5</td>\n",
              "      <td>2005-03-23 06:27:08</td>\n",
              "      <td>Mulan (1998)</td>\n",
              "      <td>Adventure|Animation|Children|Comedy|Drama|Musi...</td>\n",
              "      <td>120762</td>\n",
              "      <td>10674</td>\n",
              "    </tr>\n",
              "    <tr>\n",
              "      <th>4</th>\n",
              "      <td>91</td>\n",
              "      <td>1909</td>\n",
              "      <td>3.0</td>\n",
              "      <td>2005-04-11 06:37:49</td>\n",
              "      <td>X-Files: Fight the Future, The (1998)</td>\n",
              "      <td>Action|Crime|Mystery|Sci-Fi|Thriller</td>\n",
              "      <td>120902</td>\n",
              "      <td>846</td>\n",
              "    </tr>\n",
              "  </tbody>\n",
              "</table>\n",
              "</div>"
            ]
          },
          "metadata": {},
          "execution_count": 17
        }
      ]
    },
    {
      "cell_type": "code",
      "source": [
        "rmm.reinitialize(pool_allocator=True, managed_memory=True)  # Reset GPU memory\n",
        "# Merge genome scores with genome tags\n",
        "genome_data = genome_scores_df.merge(genome_tags_df, on=\"tagId\", how=\"left\")\n",
        "del genome_tags_df  # Free up memory\n",
        "gc.collect()\n",
        "genome_data.head()"
      ],
      "metadata": {
        "colab": {
          "base_uri": "https://localhost:8080/",
          "height": 201
        },
        "id": "j4tgHOWVdkGq",
        "outputId": "aa98363d-b774-4049-cdbf-cad71fefef9c"
      },
      "execution_count": null,
      "outputs": [
        {
          "output_type": "execute_result",
          "data": {
            "text/plain": [
              "   movieId  tagId  relevance             tag\n",
              "0        3    977    0.08250        stunning\n",
              "1        3    978    0.03875          stupid\n",
              "2        3    979    0.07550  stupid as hell\n",
              "3        3    980    0.05450       stupidity\n",
              "4        3    981    0.07175         stylish"
            ],
            "text/html": [
              "<div>\n",
              "<style scoped>\n",
              "    .dataframe tbody tr th:only-of-type {\n",
              "        vertical-align: middle;\n",
              "    }\n",
              "\n",
              "    .dataframe tbody tr th {\n",
              "        vertical-align: top;\n",
              "    }\n",
              "\n",
              "    .dataframe thead th {\n",
              "        text-align: right;\n",
              "    }\n",
              "</style>\n",
              "<table border=\"1\" class=\"dataframe\">\n",
              "  <thead>\n",
              "    <tr style=\"text-align: right;\">\n",
              "      <th></th>\n",
              "      <th>movieId</th>\n",
              "      <th>tagId</th>\n",
              "      <th>relevance</th>\n",
              "      <th>tag</th>\n",
              "    </tr>\n",
              "  </thead>\n",
              "  <tbody>\n",
              "    <tr>\n",
              "      <th>0</th>\n",
              "      <td>3</td>\n",
              "      <td>977</td>\n",
              "      <td>0.08250</td>\n",
              "      <td>stunning</td>\n",
              "    </tr>\n",
              "    <tr>\n",
              "      <th>1</th>\n",
              "      <td>3</td>\n",
              "      <td>978</td>\n",
              "      <td>0.03875</td>\n",
              "      <td>stupid</td>\n",
              "    </tr>\n",
              "    <tr>\n",
              "      <th>2</th>\n",
              "      <td>3</td>\n",
              "      <td>979</td>\n",
              "      <td>0.07550</td>\n",
              "      <td>stupid as hell</td>\n",
              "    </tr>\n",
              "    <tr>\n",
              "      <th>3</th>\n",
              "      <td>3</td>\n",
              "      <td>980</td>\n",
              "      <td>0.05450</td>\n",
              "      <td>stupidity</td>\n",
              "    </tr>\n",
              "    <tr>\n",
              "      <th>4</th>\n",
              "      <td>3</td>\n",
              "      <td>981</td>\n",
              "      <td>0.07175</td>\n",
              "      <td>stylish</td>\n",
              "    </tr>\n",
              "  </tbody>\n",
              "</table>\n",
              "</div>"
            ]
          },
          "metadata": {},
          "execution_count": 18
        }
      ]
    },
    {
      "cell_type": "code",
      "source": [
        "rmm.reinitialize(pool_allocator=True, managed_memory=True)\n",
        "# Merge tags with movies\n",
        "tags_movies = tags_df.merge(movies_df, on=\"movieId\", how=\"left\")\n",
        "del tags_df  # Free up memory\n",
        "gc.collect()\n",
        "tags_movies.head()"
      ],
      "metadata": {
        "colab": {
          "base_uri": "https://localhost:8080/",
          "height": 283
        },
        "id": "92y5cbxsdlDf",
        "outputId": "77c5eaf9-0281-4ef3-da95-0187153f5ac3"
      },
      "execution_count": null,
      "outputs": [
        {
          "output_type": "execute_result",
          "data": {
            "text/plain": [
              "   userId  movieId                   tag            timestamp  \\\n",
              "0    1741      280     courtroom setting  2007-05-12 04:05:38   \n",
              "1    1741      288         serial killer  2007-08-18 02:59:59   \n",
              "2    1741      290                  rape  2009-05-01 01:06:12   \n",
              "3    1741      293              assassin  2009-01-15 19:38:24   \n",
              "4    1741      293  assassin-in-training  2009-01-15 19:40:03   \n",
              "\n",
              "                                               title  \\\n",
              "0                         Murder in the First (1995)   \n",
              "1                        Natural Born Killers (1994)   \n",
              "2                          Once Were Warriors (1994)   \n",
              "3  Léon: The Professional (a.k.a. The Professiona...   \n",
              "4  Léon: The Professional (a.k.a. The Professiona...   \n",
              "\n",
              "                        genres  \n",
              "0               Drama|Thriller  \n",
              "1        Action|Crime|Thriller  \n",
              "2                  Crime|Drama  \n",
              "3  Action|Crime|Drama|Thriller  \n",
              "4  Action|Crime|Drama|Thriller  "
            ],
            "text/html": [
              "<div>\n",
              "<style scoped>\n",
              "    .dataframe tbody tr th:only-of-type {\n",
              "        vertical-align: middle;\n",
              "    }\n",
              "\n",
              "    .dataframe tbody tr th {\n",
              "        vertical-align: top;\n",
              "    }\n",
              "\n",
              "    .dataframe thead th {\n",
              "        text-align: right;\n",
              "    }\n",
              "</style>\n",
              "<table border=\"1\" class=\"dataframe\">\n",
              "  <thead>\n",
              "    <tr style=\"text-align: right;\">\n",
              "      <th></th>\n",
              "      <th>userId</th>\n",
              "      <th>movieId</th>\n",
              "      <th>tag</th>\n",
              "      <th>timestamp</th>\n",
              "      <th>title</th>\n",
              "      <th>genres</th>\n",
              "    </tr>\n",
              "  </thead>\n",
              "  <tbody>\n",
              "    <tr>\n",
              "      <th>0</th>\n",
              "      <td>1741</td>\n",
              "      <td>280</td>\n",
              "      <td>courtroom setting</td>\n",
              "      <td>2007-05-12 04:05:38</td>\n",
              "      <td>Murder in the First (1995)</td>\n",
              "      <td>Drama|Thriller</td>\n",
              "    </tr>\n",
              "    <tr>\n",
              "      <th>1</th>\n",
              "      <td>1741</td>\n",
              "      <td>288</td>\n",
              "      <td>serial killer</td>\n",
              "      <td>2007-08-18 02:59:59</td>\n",
              "      <td>Natural Born Killers (1994)</td>\n",
              "      <td>Action|Crime|Thriller</td>\n",
              "    </tr>\n",
              "    <tr>\n",
              "      <th>2</th>\n",
              "      <td>1741</td>\n",
              "      <td>290</td>\n",
              "      <td>rape</td>\n",
              "      <td>2009-05-01 01:06:12</td>\n",
              "      <td>Once Were Warriors (1994)</td>\n",
              "      <td>Crime|Drama</td>\n",
              "    </tr>\n",
              "    <tr>\n",
              "      <th>3</th>\n",
              "      <td>1741</td>\n",
              "      <td>293</td>\n",
              "      <td>assassin</td>\n",
              "      <td>2009-01-15 19:38:24</td>\n",
              "      <td>Léon: The Professional (a.k.a. The Professiona...</td>\n",
              "      <td>Action|Crime|Drama|Thriller</td>\n",
              "    </tr>\n",
              "    <tr>\n",
              "      <th>4</th>\n",
              "      <td>1741</td>\n",
              "      <td>293</td>\n",
              "      <td>assassin-in-training</td>\n",
              "      <td>2009-01-15 19:40:03</td>\n",
              "      <td>Léon: The Professional (a.k.a. The Professiona...</td>\n",
              "      <td>Action|Crime|Drama|Thriller</td>\n",
              "    </tr>\n",
              "  </tbody>\n",
              "</table>\n",
              "</div>"
            ]
          },
          "metadata": {},
          "execution_count": 19
        }
      ]
    },
    {
      "cell_type": "code",
      "source": [
        "check_memory()"
      ],
      "metadata": {
        "colab": {
          "base_uri": "https://localhost:8080/"
        },
        "id": "9RNoAbiNf1HF",
        "outputId": "489f26f4-959f-41a4-b6bc-f25dbaba7207"
      },
      "execution_count": null,
      "outputs": [
        {
          "output_type": "stream",
          "name": "stdout",
          "text": [
            "GPU Memory - Total: 9.14 GB, Used: 0.00 GB, Free: 9.14 GB\n"
          ]
        }
      ]
    },
    {
      "cell_type": "code",
      "source": [
        "print(\"ratings_movies:\",ratings_movies.columns)\n",
        "print(\"genome_data:\",genome_data.columns)\n",
        "print(\"tags_movies:\",tags_movies.columns)"
      ],
      "metadata": {
        "colab": {
          "base_uri": "https://localhost:8080/"
        },
        "id": "07v4JiPido6j",
        "outputId": "9527ca68-eb41-437e-9650-febdf80ab3a1"
      },
      "execution_count": null,
      "outputs": [
        {
          "output_type": "stream",
          "name": "stdout",
          "text": [
            "ratings_movies: Index(['userId', 'movieId', 'rating', 'timestamp', 'title', 'genres', 'imdbId',\n",
            "       'tmdbId'],\n",
            "      dtype='object')\n",
            "genome_data: Index(['movieId', 'tagId', 'relevance', 'tag'], dtype='object')\n",
            "tags_movies: Index(['userId', 'movieId', 'tag', 'timestamp', 'title', 'genres'], dtype='object')\n"
          ]
        }
      ]
    },
    {
      "cell_type": "code",
      "source": [
        "ratings_movies = ratings_movies[[\"userId\", \"movieId\", \"rating\", \"title\", \"genres\",\"timestamp\"]]\n",
        "genome_data = genome_data[[\"movieId\", \"tag\", \"relevance\"]]\n",
        "tags_movies = tags_movies[[\"userId\", \"movieId\", \"tag\"]]\n",
        "#Remove repeated columns"
      ],
      "metadata": {
        "id": "znmkRSHpdrB3"
      },
      "execution_count": null,
      "outputs": []
    },
    {
      "cell_type": "code",
      "source": [
        "print(\"ratings_movies:\",ratings_movies.info())\n",
        "print(\"genome_data:\",genome_data.info())\n",
        "print(\"tags_movies:\",tags_movies.info())"
      ],
      "metadata": {
        "colab": {
          "base_uri": "https://localhost:8080/"
        },
        "id": "SNZEx2xJdrzu",
        "outputId": "e9b7c3b8-0913-459f-8a03-d3b745aae0fc"
      },
      "execution_count": null,
      "outputs": [
        {
          "output_type": "stream",
          "name": "stdout",
          "text": [
            "<class 'cudf.core.dataframe.DataFrame'>\n",
            "RangeIndex: 20000263 entries, 0 to 20000262\n",
            "Data columns (total 6 columns):\n",
            " #   Column     Dtype\n",
            "---  ------     -----\n",
            " 0   userId     int64\n",
            " 1   movieId    int64\n",
            " 2   rating     float64\n",
            " 3   title      object\n",
            " 4   genres     object\n",
            " 5   timestamp  object\n",
            "dtypes: float64(1), int64(2), object(3)\n",
            "memory usage: 1.8+ GB\n",
            "ratings_movies: None\n",
            "<class 'cudf.core.dataframe.DataFrame'>\n",
            "RangeIndex: 11709768 entries, 0 to 11709767\n",
            "Data columns (total 3 columns):\n",
            " #   Column     Dtype\n",
            "---  ------     -----\n",
            " 0   movieId    int64\n",
            " 1   tag        object\n",
            " 2   relevance  float64\n",
            "dtypes: float64(1), int64(1), object(1)\n",
            "memory usage: 335.2+ MB\n",
            "genome_data: None\n",
            "<class 'cudf.core.dataframe.DataFrame'>\n",
            "RangeIndex: 465426 entries, 0 to 465425\n",
            "Data columns (total 3 columns):\n",
            " #   Column   Non-Null Count   Dtype\n",
            "---  ------   --------------   -----\n",
            " 0   userId   465426 non-null  int64\n",
            " 1   movieId  465426 non-null  int64\n",
            " 2   tag      465426 non-null  object\n",
            "dtypes: int64(2), object(1)\n",
            "memory usage: 13.8+ MB\n",
            "tags_movies: None\n"
          ]
        }
      ]
    },
    {
      "cell_type": "markdown",
      "source": [
        "1.1"
      ],
      "metadata": {
        "id": "hfcp0mRwc5Ci"
      }
    },
    {
      "cell_type": "code",
      "source": [
        "movies_df_pd = movies_df.to_pandas()"
      ],
      "metadata": {
        "id": "GgNkGSmXdi4L"
      },
      "execution_count": 13,
      "outputs": []
    },
    {
      "cell_type": "code",
      "source": [
        "movies_df_pd=movies_df_pd.drop_duplicates()"
      ],
      "metadata": {
        "id": "LIhl4KyPfcZq"
      },
      "execution_count": 14,
      "outputs": []
    },
    {
      "cell_type": "code",
      "source": [
        "ratings_df_pd = ratings_df.to_pandas()  # Convert to Pandas DataFrame\n",
        "\n"
      ],
      "metadata": {
        "id": "NckoxJMsukg1"
      },
      "execution_count": 15,
      "outputs": []
    },
    {
      "cell_type": "code",
      "source": [
        "ratings_df_pd = ratings_df_pd.drop_duplicates()"
      ],
      "metadata": {
        "id": "E08ZR82yfsiX"
      },
      "execution_count": 16,
      "outputs": []
    },
    {
      "cell_type": "code",
      "source": [
        "print(\"\\nInformazioni sul dataset 'movies':\")\n",
        "print(movies_df_pd.info())\n",
        "\n",
        "print(\"\\nInformazioni sul dataset 'ratings':\")\n",
        "print(ratings_df_pd.info())"
      ],
      "metadata": {
        "colab": {
          "base_uri": "https://localhost:8080/"
        },
        "id": "HupzHxfyf_In",
        "outputId": "14fd4e98-2735-4f26-f7cb-de747c65bbb7"
      },
      "execution_count": 17,
      "outputs": [
        {
          "output_type": "stream",
          "name": "stdout",
          "text": [
            "\n",
            "Informazioni sul dataset 'movies':\n",
            "<class 'pandas.core.frame.DataFrame'>\n",
            "RangeIndex: 27278 entries, 0 to 27277\n",
            "Data columns (total 3 columns):\n",
            " #   Column   Non-Null Count  Dtype \n",
            "---  ------   --------------  ----- \n",
            " 0   movieId  27278 non-null  int64 \n",
            " 1   title    27278 non-null  object\n",
            " 2   genres   27278 non-null  object\n",
            "dtypes: int64(1), object(2)\n",
            "memory usage: 639.5+ KB\n",
            "None\n",
            "\n",
            "Informazioni sul dataset 'ratings':\n",
            "<class 'pandas.core.frame.DataFrame'>\n",
            "RangeIndex: 20000263 entries, 0 to 20000262\n",
            "Data columns (total 4 columns):\n",
            " #   Column     Dtype  \n",
            "---  ------     -----  \n",
            " 0   userId     int64  \n",
            " 1   movieId    int64  \n",
            " 2   rating     float64\n",
            " 3   timestamp  object \n",
            "dtypes: float64(1), int64(2), object(1)\n",
            "memory usage: 610.4+ MB\n",
            "None\n"
          ]
        }
      ]
    },
    {
      "cell_type": "code",
      "source": [
        "print(movies_df_pd.isnull().sum())\n",
        "print(movies_df_pd.isna().sum())\n",
        "print(movies_df_pd.duplicated().sum())"
      ],
      "metadata": {
        "colab": {
          "base_uri": "https://localhost:8080/"
        },
        "id": "OYZqAF6pgKr_",
        "outputId": "4b8832be-fe10-483d-8270-a4cc3a0c08c1"
      },
      "execution_count": null,
      "outputs": [
        {
          "output_type": "stream",
          "name": "stdout",
          "text": [
            "movieId    0\n",
            "title      0\n",
            "genres     0\n",
            "dtype: int64\n",
            "movieId    0\n",
            "title      0\n",
            "genres     0\n",
            "dtype: int64\n",
            "0\n"
          ]
        }
      ]
    },
    {
      "cell_type": "code",
      "source": [
        "print(ratings_df_pd.isnull().sum())\n",
        "print(ratings_df_pd.isna().sum())\n",
        "print(ratings_df_pd.duplicated().sum())"
      ],
      "metadata": {
        "colab": {
          "base_uri": "https://localhost:8080/"
        },
        "id": "oVQKxwvBgWOr",
        "outputId": "01887f3b-f300-41ee-8997-33a502392eaf"
      },
      "execution_count": null,
      "outputs": [
        {
          "output_type": "stream",
          "name": "stdout",
          "text": [
            "userId       0\n",
            "movieId      0\n",
            "rating       0\n",
            "timestamp    0\n",
            "dtype: int64\n",
            "userId       0\n",
            "movieId      0\n",
            "rating       0\n",
            "timestamp    0\n",
            "dtype: int64\n",
            "0\n"
          ]
        }
      ]
    },
    {
      "cell_type": "code",
      "source": [
        "from sklearn.feature_extraction.text import TfidfVectorizer\n",
        "from sklearn.metrics.pairwise import cosine_similarity\n",
        "from scipy.sparse import csr_matrix\n",
        "from sklearn.decomposition import TruncatedSVD\n",
        "\n",
        "movies_df_pd['genres'] = movies_df_pd['genres'].str.replace('|', ' ')\n",
        "tfidf = TfidfVectorizer(stop_words='english')\n"
      ],
      "metadata": {
        "id": "R0Gw_1yMgkKu"
      },
      "execution_count": 18,
      "outputs": []
    },
    {
      "cell_type": "code",
      "source": [
        "print(\"\\nStatistiche descrittive per il dataset 'ratings':\")\n",
        "print(ratings_df_pd.describe())\n",
        "\n",
        "print(\"\\nStatistiche descrittive per il dataset 'movies':\")\n",
        "print(movies_df_pd.describe(include='all'))  # Include anche le colonne non numeriche"
      ],
      "metadata": {
        "colab": {
          "base_uri": "https://localhost:8080/"
        },
        "id": "CMeiI3EGg2QM",
        "outputId": "38ed6047-be1e-4974-94f8-f13ca5730319"
      },
      "execution_count": 19,
      "outputs": [
        {
          "output_type": "stream",
          "name": "stdout",
          "text": [
            "\n",
            "Statistiche descrittive per il dataset 'ratings':\n",
            "             userId       movieId        rating\n",
            "count  2.000026e+07  2.000026e+07  2.000026e+07\n",
            "mean   6.904587e+04  9.041567e+03  3.525529e+00\n",
            "std    4.003863e+04  1.978948e+04  1.051989e+00\n",
            "min    1.000000e+00  1.000000e+00  5.000000e-01\n",
            "25%    3.439500e+04  9.020000e+02  3.000000e+00\n",
            "50%    6.914100e+04  2.167000e+03  3.500000e+00\n",
            "75%    1.036370e+05  4.770000e+03  4.000000e+00\n",
            "max    1.384930e+05  1.312620e+05  5.000000e+00\n",
            "\n",
            "Statistiche descrittive per il dataset 'movies':\n",
            "              movieId            title genres\n",
            "count    27278.000000            27278  27278\n",
            "unique            NaN            27262   1342\n",
            "top               NaN  Blackout (2007)  Drama\n",
            "freq              NaN                2   4520\n",
            "mean     59855.480570              NaN    NaN\n",
            "std      44429.314697              NaN    NaN\n",
            "min          1.000000              NaN    NaN\n",
            "25%       6931.250000              NaN    NaN\n",
            "50%      68068.000000              NaN    NaN\n",
            "75%     100293.250000              NaN    NaN\n",
            "max     131262.000000              NaN    NaN\n"
          ]
        }
      ]
    },
    {
      "cell_type": "code",
      "source": [
        "user_movies = ratings_df_pd.groupby('userId')['movieId'].apply(set).to_dict()"
      ],
      "metadata": {
        "id": "92ptyLzahT6e"
      },
      "execution_count": 20,
      "outputs": []
    },
    {
      "cell_type": "code",
      "source": [
        "def jaccard_similarity_hashed(signature1, signature2):\n",
        "    matches = sum(1 for x, y in zip(signature1, signature2) if x == y)\n",
        "    return matches / len(signature1)"
      ],
      "metadata": {
        "id": "TVcQ6DlAdcQP"
      },
      "execution_count": 21,
      "outputs": []
    },
    {
      "cell_type": "code",
      "source": [
        "def generate_hash_function(a,b,c):\n",
        "    def hash_function(x):\n",
        "        return (a * (x%c) + b)\n",
        "    return hash_function\n",
        "\n",
        "def generate_hash_functions(num_hashes, max_movie_id, seed=None):\n",
        "    \"\"\"Genera una famiglia di funzioni hash lineari.\"\"\"\n",
        "    if seed is not None:\n",
        "        np.random.seed(seed)\n",
        "    a = np.random.randint(1, max_movie_id * 2, size=num_hashes)\n",
        "    b = np.random.randint(0, max_movie_id * 2, size=num_hashes)\n",
        "    c = max_movie_id * 2 + 1  # Numero primo maggiore\n",
        "    return [generate_hash_function(a_, b_, c) for a_, b_ in zip(a, b)]"
      ],
      "metadata": {
        "id": "1N5zh3LKdsn0"
      },
      "execution_count": 22,
      "outputs": []
    },
    {
      "cell_type": "code",
      "source": [
        "def create_custom_hash_function(a_coeff, b_coeff, prime_mod):\n",
        "    \"\"\"Definisce una funzione hash personalizzata basata sul parametro 2x.\"\"\"\n",
        "    def hash_function(input_value):\n",
        "        return (a_coeff * 2 * input_value + b_coeff) % prime_mod\n",
        "    return hash_function\n",
        "\n",
        "def create_hash_function_family(num_functions, max_movie_val, random_seed=None):\n",
        "    \"\"\"Genera una serie di funzioni hash utilizzando il coefficiente 2x nella formula.\"\"\"\n",
        "    if random_seed is not None:\n",
        "        np.random.seed(random_seed)\n",
        "\n",
        "    a_coefficients = np.random.randint(1, max_movie_val * 2, size=num_functions)\n",
        "    b_coefficients = np.random.randint(0, max_movie_val * 2, size=num_functions)\n",
        "    prime_modulo = max_movie_val * 2 + 1  # Modulo primo più grande del massimo valore\n",
        "\n",
        "    return [create_custom_hash_function(a, b, prime_modulo) for a, b in zip(a_coefficients, b_coefficients)]"
      ],
      "metadata": {
        "id": "lKw30AmqdvKV"
      },
      "execution_count": 23,
      "outputs": []
    },
    {
      "cell_type": "code",
      "source": [
        "def create_quadratic_hash_function(coeff_a, coeff_b, prime_modulo):\n",
        "    \"\"\"Crea una funzione hash quadratica basata su x^2 nella formula.\"\"\"\n",
        "    def hash_function(input_value):\n",
        "        return (coeff_a * (input_value / 2) + coeff_b * input_value) % prime_modulo\n",
        "    return hash_function\n",
        "\n",
        "def create_quadratic_hash_family(num_functions, max_val, random_seed=None):\n",
        "    \"\"\"Genera una famiglia di funzioni hash quadratiche.\"\"\"\n",
        "    if random_seed is not None:\n",
        "        np.random.seed(random_seed)\n",
        "\n",
        "    coeff_a_list = np.random.randint(1, max_val * 2, size=num_functions)\n",
        "    coeff_b_list = np.random.randint(0, max_val * 2, size=num_functions)\n",
        "    prime_modulo = max_val * 2 + 1  # Modulo primo maggiore del massimo valore\n",
        "\n",
        "    return [create_quadratic_hash_function(a, b, prime_modulo) for a, b in zip(coeff_a_list, coeff_b_list)]"
      ],
      "metadata": {
        "id": "F1qBxlwwdyjs"
      },
      "execution_count": 24,
      "outputs": []
    },
    {
      "cell_type": "code",
      "source": [
        "def create_cubic_hash_function(coeff_a, coeff_b, prime_mod):\n",
        "    \"\"\"Definisce una funzione hash cubica basata su x^3.\"\"\"\n",
        "    def hash_function(input_val):\n",
        "        return (coeff_a * input_val**3 + coeff_b) % prime_mod\n",
        "    return hash_function\n",
        "\n",
        "def create_cubic_hash_family(num_functions, max_val, random_seed=None):\n",
        "    \"\"\"Genera una famiglia di funzioni hash cubiche.\"\"\"\n",
        "    if random_seed is not None:\n",
        "        np.random.seed(random_seed)\n",
        "\n",
        "    a_coeffs = np.random.randint(1, max_val * 2, size=num_functions)  # Coefficienti 'a'\n",
        "    b_coeffs = np.random.randint(0, max_val * 2, size=num_functions)  # Coefficienti 'b'\n",
        "    prime_modulo = max_val * 2 + 1  # Primo numero maggiore di max_val\n",
        "\n",
        "    return [create_cubic_hash_function(a, b, prime_modulo) for a, b in zip(a_coeffs, b_coeffs)]"
      ],
      "metadata": {
        "id": "D4g80eepd3DH"
      },
      "execution_count": 25,
      "outputs": []
    },
    {
      "cell_type": "code",
      "source": [
        "def generate_signatures(subset_users, user_movie_data, hash_functions):\n",
        "    \"\"\"Crea le firme MinHash per un gruppo specifico di utenti.\"\"\"\n",
        "    signatures = {}\n",
        "\n",
        "    for user_id in subset_users:\n",
        "        watched_movies = user_movie_data.get(user_id, set())\n",
        "\n",
        "        if not watched_movies:\n",
        "            # Se l'utente non ha film valutati, assegna una firma \"vuota\" (infinito)\n",
        "            signatures[user_id] = [float('inf')] * len(hash_functions)\n",
        "            continue\n",
        "\n",
        "        user_signature = []\n",
        "        for hash_func in hash_functions:\n",
        "            # Trova il valore hash minimo per i film associati all'utente\n",
        "            min_hash_value = min(hash_func(movie) for movie in watched_movies)\n",
        "            user_signature.append(min_hash_value)\n",
        "\n",
        "        signatures[user_id] = user_signature\n",
        "\n",
        "    return signatures"
      ],
      "metadata": {
        "id": "Z0Cn-5sEd54q"
      },
      "execution_count": 26,
      "outputs": []
    },
    {
      "cell_type": "code",
      "source": [
        "def compute_mse(user_movie_data, signatures, selected_users):\n",
        "    \"\"\"Calcola l'errore quadratico medio (MSE) tra similarità reali e stimate per un insieme di utenti.\"\"\"\n",
        "    total_error = 0\n",
        "    pair_count = 0\n",
        "\n",
        "    for idx, user_a in enumerate(selected_users):\n",
        "        for user_b in selected_users[idx + 1:]:\n",
        "            # Similarità reale basata sulla definizione di Jaccard\n",
        "            actual_jaccard = jaccard_similarity_hashed(user_movie_data[user_a], user_movie_data[user_b])\n",
        "\n",
        "            # Similarità stimata utilizzando le firme MinHash\n",
        "            estimated_jaccard = jaccard_similarity_hashed(signatures[user_a], signatures[user_b])\n",
        "\n",
        "            # Aggiunge l'errore quadratico alla somma totale\n",
        "            total_error += (actual_jaccard - estimated_jaccard) ** 2\n",
        "            pair_count += 1\n",
        "\n",
        "    # Calcola l'errore medio quadratico\n",
        "    return (total_error / pair_count) if pair_count > 0 else 0"
      ],
      "metadata": {
        "id": "kW5U18C2d8sO"
      },
      "execution_count": 51,
      "outputs": []
    },
    {
      "cell_type": "code",
      "source": [
        "# Seleziona un sottoinsieme di utenti e crea il dizionario dei loro film\n",
        "selected_users = list(user_movies.keys())[:100]\n",
        "selected_user_movies = {user: user_movies[user] for user in selected_users}\n",
        "\n",
        "# Genera diverse famiglie di funzioni hash\n",
        "hash_funcs_default = create_hash_function_family(\n",
        "    num_functions=10,\n",
        "    max_movie_val=ratings_df['movieId'].max(),\n",
        "    random_seed=42\n",
        ")\n",
        "\n",
        "hash_funcs_2x = create_hash_function_family(\n",
        "    num_functions=10,\n",
        "    max_movie_val=ratings_df['movieId'].max(),\n",
        "    random_seed=42\n",
        ")\n",
        "\n",
        "hash_funcs_quadratic = create_quadratic_hash_family(\n",
        "    num_functions=10,\n",
        "    max_val=ratings_df['movieId'].max(),\n",
        "    random_seed=42\n",
        ")\n",
        "\n",
        "hash_funcs_cubic = create_cubic_hash_family(\n",
        "    num_functions=10,\n",
        "    max_val=ratings_df['movieId'].max(),\n",
        "    random_seed=42\n",
        ")\n",
        "\n",
        "# Calcola le firme MinHash per ciascun tipo di funzione hash\n",
        "signatures_default = generate_signatures(selected_users, selected_user_movies, hash_funcs_default)\n",
        "signatures_2x = generate_signatures(selected_users, selected_user_movies, hash_funcs_2x)\n",
        "signatures_quadratic = generate_signatures(selected_users, selected_user_movies, hash_funcs_quadratic)\n",
        "signatures_cubic = generate_signatures(selected_users, selected_user_movies, hash_funcs_cubic)\n",
        "\n",
        "# Calcola l'errore quadratico medio (MSE) per ciascuna configurazione\n",
        "mse_default = compute_mse(user_movies, signatures_default, selected_users)\n",
        "mse_2x = compute_mse(user_movies, signatures_2x, selected_users)\n",
        "mse_quadratic = compute_mse(user_movies, signatures_quadratic, selected_users)\n",
        "mse_cubic = compute_mse(user_movies, signatures_cubic, selected_users)"
      ],
      "metadata": {
        "colab": {
          "base_uri": "https://localhost:8080/"
        },
        "id": "QgrUim0meBRW",
        "outputId": "8d8bdbde-6a4d-4c48-de5f-b26e2d0cdb15"
      },
      "execution_count": 52,
      "outputs": [
        {
          "output_type": "stream",
          "name": "stderr",
          "text": [
            "<ipython-input-25-5cf6de255ac1>:4: RuntimeWarning: overflow encountered in scalar multiply\n",
            "  return (coeff_a * input_val**3 + coeff_b) % prime_mod\n"
          ]
        }
      ]
    },
    {
      "cell_type": "code",
      "source": [
        "print(f\"MSE: {mse_default:.4f}\")\n",
        "\n",
        "print(f\"MSE con moltiplicazione 2x: {mse_2x:.4f}\")\n",
        "\n",
        "print(f\"MSE con x^2: {mse_quadratic:.4f}\")\n",
        "\n",
        "print(f\"MSE con x^3: {mse_cubic:.4f}\")"
      ],
      "metadata": {
        "colab": {
          "base_uri": "https://localhost:8080/"
        },
        "id": "aTyp-jMVeE1b",
        "outputId": "e3933d71-b7fb-46a6-a51f-1fe899fff1ef"
      },
      "execution_count": 53,
      "outputs": [
        {
          "output_type": "stream",
          "name": "stdout",
          "text": [
            "MSE: 0.0081\n",
            "MSE con moltiplicazione 2x: 0.0081\n",
            "MSE con x^2: 0.0048\n",
            "MSE con x^3: 0.0088\n"
          ]
        }
      ]
    },
    {
      "cell_type": "code",
      "source": [
        "def evaluate_threshold_performance(user_movie_data, signatures, selected_users, threshold):\n",
        "    true_positive = 0\n",
        "    false_positive = 0\n",
        "    false_negative = 0\n",
        "\n",
        "    for i, user_a in enumerate(selected_users):\n",
        "        for user_b in selected_users[i + 1:]:\n",
        "            real_sim = jaccard_similarity_hashed(user_movie_data[user_a], user_movie_data[user_b])\n",
        "            est_sim = jaccard_similarity_hashed(signatures[user_a], signatures[user_b])\n",
        "\n",
        "            real_match = real_sim >= threshold\n",
        "            est_match = est_sim >= threshold\n",
        "\n",
        "            if real_match and est_match:\n",
        "                true_positive += 1\n",
        "            elif not real_match and est_match:\n",
        "                false_positive += 1\n",
        "            elif real_match and not est_match:\n",
        "                false_negative += 1\n",
        "\n",
        "    precision = true_positive / (true_positive + false_positive) if (true_positive + false_positive) else 0\n",
        "    recall = true_positive / (true_positive + false_negative) if (true_positive + false_negative) else 0\n",
        "    f1_score = (2 * precision * recall) / (precision + recall) if (precision + recall) else 0\n",
        "\n",
        "    return precision, recall, f1_score\n"
      ],
      "metadata": {
        "id": "KPjy8R28ottp"
      },
      "execution_count": 54,
      "outputs": []
    },
    {
      "cell_type": "code",
      "source": [
        "thresholds = [0.2, 0.4, 0.6, 0.8]\n",
        "results = []\n",
        "\n",
        "for threshold in thresholds:\n",
        "    precision_default, recall_default, f1_default = evaluate_threshold_performance(user_movies, signatures_default, selected_users, threshold)\n",
        "    results.append((threshold, precision_default, recall_default, f1_default))\n"
      ],
      "metadata": {
        "id": "3M6P9Ekbpu_Y"
      },
      "execution_count": 55,
      "outputs": []
    },
    {
      "cell_type": "code",
      "source": [
        "import pandas as pd\n",
        "\n",
        "# Soglie da valutare\n",
        "thresholds = [0.1]\n",
        "\n",
        "# Dizionario per memorizzare i risultati delle firme MinHash (ipotizziamo firme già calcolate)\n",
        "hash_types = {\n",
        "    \"Default\": signatures_default,\n",
        "    \"Linear (2x)\": signatures_2x,\n",
        "    \"Quadratic\": signatures_quadratic,\n",
        "    \"Cubic\": signatures_cubic\n",
        "}\n",
        "\n",
        "# Nuovi valori MSE forniti\n",
        "mse_values = {\n",
        "    \"Default\": 0.0081,\n",
        "    \"Linear (2x)\": 0.0081,\n",
        "    \"Quadratic\": 0.0048,\n",
        "    \"Cubic\": 0.0088\n",
        "}\n",
        "\n",
        "# Lista per salvare i risultati delle metriche\n",
        "results = []\n",
        "\n",
        "# Calcola Precision, Recall e F1-Score per ogni tipo di funzione hash e soglia\n",
        "for hash_name, signatures in hash_types.items():\n",
        "    for threshold in thresholds:\n",
        "        precision, recall, f1_score = evaluate_threshold_performance(user_movies, signatures, selected_users, threshold)\n",
        "        mse = mse_values[hash_name]\n",
        "        results.append((hash_name, threshold, precision, recall, f1_score, mse))\n",
        "\n",
        "# Creazione del DataFrame per la visualizzazione\n",
        "df_results = pd.DataFrame(results, columns=['Hash Type', 'Threshold', 'Precision', 'Recall', 'F1-Score', 'MSE'])\n",
        "\n",
        "# Visualizza la tabella\n",
        "print(df_results)\n"
      ],
      "metadata": {
        "colab": {
          "base_uri": "https://localhost:8080/"
        },
        "id": "qcU87pL7sBFF",
        "outputId": "7067f498-0234-4b57-9624-0561415ada75"
      },
      "execution_count": 57,
      "outputs": [
        {
          "output_type": "stream",
          "name": "stdout",
          "text": [
            "     Hash Type  Threshold  Precision    Recall  F1-Score     MSE\n",
            "0      Default        0.1   0.008059  0.923077  0.015979  0.0081\n",
            "1  Linear (2x)        0.1   0.008059  0.923077  0.015979  0.0081\n",
            "2    Quadratic        0.1   0.009174  0.846154  0.018152  0.0048\n",
            "3        Cubic        0.1   0.005491  0.692308  0.010896  0.0088\n"
          ]
        }
      ]
    }
  ]
}